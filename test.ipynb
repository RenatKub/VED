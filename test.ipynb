{
 "cells": [
  {
   "cell_type": "code",
   "execution_count": 40,
   "metadata": {},
   "outputs": [
    {
     "name": "stdout",
     "output_type": "stream",
     "text": [
      "C:\\PROJECTS\\ID\\ПС Крем константиновка Ф-210 КТП 1 (60545353-f39a-4086-a1a2-8778b7704665)_ок\\01_паспорта_пу\\01354647.jpg\n"
     ]
    }
   ],
   "source": [
    "import os\n",
    "import sys\n",
    "import fnmatch\n",
    "root = 'C:\\\\PROJECTS\\\\ID\\\\ПС Крем константиновка Ф-210 КТП 1 (60545353-f39a-4086-a1a2-8778b7704665)_ок\\\\01_паспорта_пу\\\\'\n",
    "pattern = '01354647'+'.*'\n",
    "for folder, subdirs, files in os.walk(root):\n",
    "  #print (folder)\n",
    "  for filename in fnmatch.filter(files, pattern):\n",
    "   fullname = os.path.join(folder, filename)\n",
    "   print (fullname)"
   ]
  },
  {
   "cell_type": "markdown",
   "metadata": {},
   "source": []
  }
 ],
 "metadata": {
  "kernelspec": {
   "display_name": "base",
   "language": "python",
   "name": "python3"
  },
  "language_info": {
   "codemirror_mode": {
    "name": "ipython",
    "version": 3
   },
   "file_extension": ".py",
   "mimetype": "text/x-python",
   "name": "python",
   "nbconvert_exporter": "python",
   "pygments_lexer": "ipython3",
   "version": "3.9.12 (main, Apr  4 2022, 05:22:27) [MSC v.1916 64 bit (AMD64)]"
  },
  "orig_nbformat": 4,
  "vscode": {
   "interpreter": {
    "hash": "263930470851f494f0ed2879c35b57985588df20f9e529b86e97dd5eb9ddc466"
   }
  }
 },
 "nbformat": 4,
 "nbformat_minor": 2
}
